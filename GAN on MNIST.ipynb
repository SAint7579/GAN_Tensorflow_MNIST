{
 "cells": [
  {
   "cell_type": "markdown",
   "metadata": {},
   "source": [
    "# Importing libraries and dataset"
   ]
  },
  {
   "cell_type": "code",
   "execution_count": 1,
   "metadata": {
    "collapsed": true
   },
   "outputs": [],
   "source": [
    "import tensorflow as tf"
   ]
  },
  {
   "cell_type": "code",
   "execution_count": 2,
   "metadata": {
    "collapsed": true
   },
   "outputs": [],
   "source": [
    "import numpy as np\n",
    "import matplotlib.pyplot as plt\n",
    "%matplotlib inline"
   ]
  },
  {
   "cell_type": "code",
   "execution_count": 3,
   "metadata": {
    "collapsed": true
   },
   "outputs": [],
   "source": [
    "from tensorflow.examples.tutorials.mnist import input_data\n"
   ]
  },
  {
   "cell_type": "code",
   "execution_count": 4,
   "metadata": {
    "collapsed": true
   },
   "outputs": [
    {
     "name": "stdout",
     "output_type": "stream",
     "text": [
      "WARNING:tensorflow:From <ipython-input-4-716a557a9654>:1: read_data_sets (from tensorflow.contrib.learn.python.learn.datasets.mnist) is deprecated and will be removed in a future version.\n",
      "Instructions for updating:\n",
      "Please use alternatives such as official/mnist/dataset.py from tensorflow/models.\n",
      "WARNING:tensorflow:From C:\\Users\\Admin\\Anaconda3\\lib\\site-packages\\tensorflow\\contrib\\learn\\python\\learn\\datasets\\mnist.py:260: maybe_download (from tensorflow.contrib.learn.python.learn.datasets.base) is deprecated and will be removed in a future version.\n",
      "Instructions for updating:\n",
      "Please write your own downloading logic.\n",
      "WARNING:tensorflow:From C:\\Users\\Admin\\Anaconda3\\lib\\site-packages\\tensorflow\\contrib\\learn\\python\\learn\\datasets\\mnist.py:262: extract_images (from tensorflow.contrib.learn.python.learn.datasets.mnist) is deprecated and will be removed in a future version.\n",
      "Instructions for updating:\n",
      "Please use tf.data to implement this functionality.\n",
      "Extracting MNIST_data/train-images-idx3-ubyte.gz\n",
      "WARNING:tensorflow:From C:\\Users\\Admin\\Anaconda3\\lib\\site-packages\\tensorflow\\contrib\\learn\\python\\learn\\datasets\\mnist.py:267: extract_labels (from tensorflow.contrib.learn.python.learn.datasets.mnist) is deprecated and will be removed in a future version.\n",
      "Instructions for updating:\n",
      "Please use tf.data to implement this functionality.\n",
      "Extracting MNIST_data/train-labels-idx1-ubyte.gz\n",
      "Extracting MNIST_data/t10k-images-idx3-ubyte.gz\n",
      "Extracting MNIST_data/t10k-labels-idx1-ubyte.gz\n",
      "WARNING:tensorflow:From C:\\Users\\Admin\\Anaconda3\\lib\\site-packages\\tensorflow\\contrib\\learn\\python\\learn\\datasets\\mnist.py:290: DataSet.__init__ (from tensorflow.contrib.learn.python.learn.datasets.mnist) is deprecated and will be removed in a future version.\n",
      "Instructions for updating:\n",
      "Please use alternatives such as official/mnist/dataset.py from tensorflow/models.\n"
     ]
    }
   ],
   "source": [
    "mnist = input_data.read_data_sets('MNIST_data/')"
   ]
  },
  {
   "cell_type": "code",
   "execution_count": 117,
   "metadata": {
    "scrolled": true
   },
   "outputs": [
    {
     "data": {
      "text/plain": [
       "<matplotlib.image.AxesImage at 0x25026141358>"
      ]
     },
     "execution_count": 117,
     "metadata": {},
     "output_type": "execute_result"
    },
    {
     "data": {
      "image/png": "[encoded data removed]",
      "text/plain": [
       "<matplotlib.figure.Figure at 0x2501f21d710>"
      ]
     },
     "metadata": {},
     "output_type": "display_data"
    }
   ],
   "source": [
    "plt.imshow(mnist.train.images[2].reshape(28,28),cmap= 'Greys')"
   ]
  },
  {
   "cell_type": "markdown",
   "metadata": {},
   "source": [
    "# Creating the generator and discriminator functions"
   ]
  },
  {
   "cell_type": "code",
   "execution_count": 6,
   "metadata": {
    "collapsed": true
   },
   "outputs": [],
   "source": [
    "def generator(z,reuse=None):\n",
    "    with tf.variable_scope('gen',reuse=reuse):\n",
    "        hidden1 = tf.layers.dense(inputs=z,units=128)\n",
    "        # Leaky Relu\n",
    "        alpha = 0.01\n",
    "        hidden1 = tf.maximum(alpha*hidden1,hidden1)\n",
    "        hidden2 = tf.layers.dense(inputs=hidden1,units=128)\n",
    "        #Leaky ReLU\n",
    "        hidden2 = tf.maximum(alpha*hidden2,hidden2)\n",
    "        output = tf.layers.dense(hidden2,units=784,activation=tf.nn.tanh)\n",
    "        return output\n",
    "        \n",
    "def discriminator(X,reuse=None):\n",
    "    with tf.variable_scope('dis',reuse=reuse):\n",
    "        hidden1 = tf.layers.dense(inputs=X,units=128)\n",
    "        # Leaky Relu\n",
    "        alpha = 0.01\n",
    "        hidden1 = tf.maximum(alpha*hidden1,hidden1)\n",
    "        hidden2 = tf.layers.dense(inputs=hidden1,units=128)\n",
    "        hidden2 = tf.maximum(alpha*hidden2,hidden2)\n",
    "        \n",
    "        #Return values for loss function\n",
    "        logits = tf.layers.dense(hidden2,units=1)\n",
    "        output = tf.sigmoid(logits)\n",
    "    \n",
    "        return output, logits\n",
    "        \n",
    "        "
   ]
  },
  {
   "cell_type": "code",
   "execution_count": 7,
   "metadata": {
    "collapsed": true
   },
   "outputs": [],
   "source": [
    "#Reseting current graph\n",
    "tf.reset_default_graph()"
   ]
  },
  {
   "cell_type": "code",
   "execution_count": 8,
   "metadata": {
    "collapsed": true
   },
   "outputs": [],
   "source": [
    "#Placeholders for real images and noise\n",
    "real = tf.placeholder(tf.float32,shape=[None,784])\n",
    "z = tf.placeholder(tf.float32,shape = [None, 100]) #100 random points for noise"
   ]
  },
  {
   "cell_type": "code",
   "execution_count": 9,
   "metadata": {},
   "outputs": [],
   "source": [
    "G = generator(z) #Output generated images\n",
    "#Making 2 descriminator: first on the real images to understand the dataset; Second for acting on generator\n",
    "D_output_real, D_logits_real = discriminator(real)\n",
    "#Reuse = True uses the previously trained 'des' descriminator for genrated images\n",
    "D_output_fake, D_logits_fake = discriminator(G,reuse=True) "
   ]
  },
  {
   "cell_type": "code",
   "execution_count": 10,
   "metadata": {
    "collapsed": true
   },
   "outputs": [],
   "source": [
    "#Losses\n",
    "def loss_function(logits_in,labels_in):\n",
    "    return tf.reduce_mean(tf.nn.sigmoid_cross_entropy_with_logits(logits=logits_in,labels=labels_in))"
   ]
  },
  {
   "cell_type": "code",
   "execution_count": 11,
   "metadata": {},
   "outputs": [],
   "source": [
    "#0.9 is to smoothing \n",
    "#Ones like detects the shape of the tensor automatically\n",
    "D_real_loss = loss_function(D_logits_real,tf.ones_like(D_logits_real)*0.9) #True for all the images in the real dataset\n",
    "D_fake_loss = loss_function(D_logits_fake,tf.zeros_like(D_logits_fake))#False for all the images in the generated dataset\n"
   ]
  },
  {
   "cell_type": "code",
   "execution_count": 12,
   "metadata": {
    "collapsed": true
   },
   "outputs": [],
   "source": [
    "D_loss = D_real_loss+D_fake_loss #Final loss to minimize"
   ]
  },
  {
   "cell_type": "code",
   "execution_count": 13,
   "metadata": {
    "collapsed": true
   },
   "outputs": [],
   "source": [
    "#Descriminator must return p->1 for the generated image\n",
    "G_loss = loss_function(D_logits_fake,tf.ones_like(D_logits_fake))"
   ]
  },
  {
   "cell_type": "code",
   "execution_count": 14,
   "metadata": {
    "collapsed": true
   },
   "outputs": [],
   "source": [
    "lr = 0.001\n",
    "tvars = tf.trainable_variables() #Gets all the variables from the network\n",
    "d_vars = [var for var in tvars if 'dis' in var.name] \n",
    "g_vars = [var for var in tvars if 'gen' in var.name]\n",
    "\n",
    "D_trainer = tf.train.AdamOptimizer(lr).minimize(D_loss, var_list=d_vars)\n",
    "G_trainer = tf.train.AdamOptimizer(lr).minimize(G_loss, var_list=g_vars)"
   ]
  },
  {
   "cell_type": "code",
   "execution_count": 45,
   "metadata": {
    "collapsed": true
   },
   "outputs": [],
   "source": [
    "#Training session\n",
    "batch_size = 100\n",
    "epochs = 500\n",
    "init = tf.global_variables_initializer()\n",
    "saver = tf.train.Saver()"
   ]
  },
  {
   "cell_type": "code",
   "execution_count": 46,
   "metadata": {
    "collapsed": true
   },
   "outputs": [],
   "source": [
    "samples = [] #Example of produced images"
   ]
  },
  {
   "cell_type": "code",
   "execution_count": 47,
   "metadata": {
    "collapsed": true
   },
   "outputs": [
    {
     "name": "stdout",
     "output_type": "stream",
     "text": [
      "ON EPOCH 0\n",
      "ON EPOCH 1\n",
      "ON EPOCH 2\n",
      "ON EPOCH 3\n",
      "ON EPOCH 4\n",
      "ON EPOCH 5\n",
      "ON EPOCH 6\n",
      "ON EPOCH 7\n",
      "ON EPOCH 8\n",
      "ON EPOCH 9\n",
      "ON EPOCH 10\n",
      "ON EPOCH 11\n",
      "ON EPOCH 12\n",
      "ON EPOCH 13\n",
      "ON EPOCH 14\n",
      "ON EPOCH 15\n",
      "ON EPOCH 16\n",
      "ON EPOCH 17\n",
      "ON EPOCH 18\n",
      "ON EPOCH 19\n",
      "ON EPOCH 20\n",
      "ON EPOCH 21\n",
      "ON EPOCH 22\n",
      "ON EPOCH 23\n",
      "ON EPOCH 24\n",
      "ON EPOCH 25\n",
      "ON EPOCH 26\n",
      "ON EPOCH 27\n",
      "ON EPOCH 28\n",
      "ON EPOCH 29\n",
      "ON EPOCH 30\n",
      "ON EPOCH 31\n",
      "ON EPOCH 32\n",
      "ON EPOCH 33\n",
      "ON EPOCH 34\n",
      "ON EPOCH 35\n",
      "ON EPOCH 36\n",
      "ON EPOCH 37\n",
      "ON EPOCH 38\n",
      "ON EPOCH 39\n",
      "ON EPOCH 40\n",
      "ON EPOCH 41\n",
      "ON EPOCH 42\n",
      "ON EPOCH 43\n",
      "ON EPOCH 44\n",
      "ON EPOCH 45\n",
      "ON EPOCH 46\n",
      "ON EPOCH 47\n",
      "ON EPOCH 48\n",
      "ON EPOCH 49\n",
      "ON EPOCH 50\n",
      "ON EPOCH 51\n",
      "ON EPOCH 52\n",
      "ON EPOCH 53\n",
      "ON EPOCH 54\n",
      "ON EPOCH 55\n",
      "ON EPOCH 56\n",
      "ON EPOCH 57\n",
      "ON EPOCH 58\n",
      "ON EPOCH 59\n",
      "ON EPOCH 60\n",
      "ON EPOCH 61\n",
      "ON EPOCH 62\n",
      "ON EPOCH 63\n",
      "ON EPOCH 64\n",
      "ON EPOCH 65\n",
      "ON EPOCH 66\n",
      "ON EPOCH 67\n",
      "ON EPOCH 68\n",
      "ON EPOCH 69\n",
      "ON EPOCH 70\n",
      "ON EPOCH 71\n",
      "ON EPOCH 72\n",
      "ON EPOCH 73\n",
      "ON EPOCH 74\n",
      "ON EPOCH 75\n",
      "ON EPOCH 76\n",
      "ON EPOCH 77\n",
      "ON EPOCH 78\n",
      "ON EPOCH 79\n",
      "ON EPOCH 80\n",
      "ON EPOCH 81\n",
      "ON EPOCH 82\n",
      "ON EPOCH 83\n",
      "ON EPOCH 84\n",
      "ON EPOCH 85\n",
      "ON EPOCH 86\n",
      "ON EPOCH 87\n",
      "ON EPOCH 88\n",
      "ON EPOCH 89\n",
      "ON EPOCH 90\n",
      "ON EPOCH 91\n",
      "ON EPOCH 92\n",
      "ON EPOCH 93\n",
      "ON EPOCH 94\n",
      "ON EPOCH 95\n",
      "ON EPOCH 96\n",
      "ON EPOCH 97\n",
      "ON EPOCH 98\n",
      "ON EPOCH 99\n",
      "ON EPOCH 100\n",
      "ON EPOCH 101\n",
      "ON EPOCH 102\n",
      "ON EPOCH 103\n",
      "ON EPOCH 104\n",
      "ON EPOCH 105\n",
      "ON EPOCH 106\n",
      "ON EPOCH 107\n",
      "ON EPOCH 108\n",
      "ON EPOCH 109\n",
      "ON EPOCH 110\n",
      "ON EPOCH 111\n",
      "ON EPOCH 112\n",
      "ON EPOCH 113\n",
      "ON EPOCH 114\n",
      "ON EPOCH 115\n",
      "ON EPOCH 116\n",
      "ON EPOCH 117\n",
      "ON EPOCH 118\n",
      "ON EPOCH 119\n",
      "ON EPOCH 120\n",
      "ON EPOCH 121\n",
      "ON EPOCH 122\n",
      "ON EPOCH 123\n",
      "ON EPOCH 124\n",
      "ON EPOCH 125\n",
      "ON EPOCH 126\n",
      "ON EPOCH 127\n",
      "ON EPOCH 128\n",
      "ON EPOCH 129\n",
      "ON EPOCH 130\n",
      "ON EPOCH 131\n",
      "ON EPOCH 132\n",
      "ON EPOCH 133\n",
      "ON EPOCH 134\n",
      "ON EPOCH 135\n",
      "ON EPOCH 136\n",
      "ON EPOCH 137\n",
      "ON EPOCH 138\n",
      "ON EPOCH 139\n",
      "ON EPOCH 140\n",
      "ON EPOCH 141\n",
      "ON EPOCH 142\n",
      "ON EPOCH 143\n",
      "ON EPOCH 144\n",
      "ON EPOCH 145\n",
      "ON EPOCH 146\n",
      "ON EPOCH 147\n",
      "ON EPOCH 148\n",
      "ON EPOCH 149\n",
      "ON EPOCH 150\n",
      "ON EPOCH 151\n",
      "ON EPOCH 152\n",
      "ON EPOCH 153\n",
      "ON EPOCH 154\n",
      "ON EPOCH 155\n",
      "ON EPOCH 156\n",
      "ON EPOCH 157\n",
      "ON EPOCH 158\n",
      "ON EPOCH 159\n",
      "ON EPOCH 160\n",
      "ON EPOCH 161\n",
      "ON EPOCH 162\n",
      "ON EPOCH 163\n",
      "ON EPOCH 164\n",
      "ON EPOCH 165\n",
      "ON EPOCH 166\n",
      "ON EPOCH 167\n",
      "ON EPOCH 168\n",
      "ON EPOCH 169\n",
      "ON EPOCH 170\n",
      "ON EPOCH 171\n",
      "ON EPOCH 172\n",
      "ON EPOCH 173\n",
      "ON EPOCH 174\n",
      "ON EPOCH 175\n",
      "ON EPOCH 176\n",
      "ON EPOCH 177\n",
      "ON EPOCH 178\n",
      "ON EPOCH 179\n",
      "ON EPOCH 180\n",
      "ON EPOCH 181\n",
      "ON EPOCH 182\n",
      "ON EPOCH 183\n",
      "ON EPOCH 184\n",
      "ON EPOCH 185\n",
      "ON EPOCH 186\n",
      "ON EPOCH 187\n",
      "ON EPOCH 188\n",
      "ON EPOCH 189\n",
      "ON EPOCH 190\n",
      "ON EPOCH 191\n",
      "ON EPOCH 192\n",
      "ON EPOCH 193\n",
      "ON EPOCH 194\n",
      "ON EPOCH 195\n",
      "ON EPOCH 196\n",
      "ON EPOCH 197\n",
      "ON EPOCH 198\n",
      "ON EPOCH 199\n",
      "ON EPOCH 200\n",
      "ON EPOCH 201\n",
      "ON EPOCH 202\n",
      "ON EPOCH 203\n",
      "ON EPOCH 204\n",
      "ON EPOCH 205\n",
      "ON EPOCH 206\n",
      "ON EPOCH 207\n",
      "ON EPOCH 208\n",
      "ON EPOCH 209\n",
      "ON EPOCH 210\n",
      "ON EPOCH 211\n",
      "ON EPOCH 212\n",
      "ON EPOCH 213\n",
      "ON EPOCH 214\n",
      "ON EPOCH 215\n",
      "ON EPOCH 216\n",
      "ON EPOCH 217\n",
      "ON EPOCH 218\n",
      "ON EPOCH 219\n",
      "ON EPOCH 220\n",
      "ON EPOCH 221\n",
      "ON EPOCH 222\n",
      "ON EPOCH 223\n",
      "ON EPOCH 224\n",
      "ON EPOCH 225\n",
      "ON EPOCH 226\n",
      "ON EPOCH 227\n",
      "ON EPOCH 228\n",
      "ON EPOCH 229\n",
      "ON EPOCH 230\n",
      "ON EPOCH 231\n",
      "ON EPOCH 232\n",
      "ON EPOCH 233\n",
      "ON EPOCH 234\n",
      "ON EPOCH 235\n",
      "ON EPOCH 236\n",
      "ON EPOCH 237\n",
      "ON EPOCH 238\n",
      "ON EPOCH 239\n",
      "ON EPOCH 240\n",
      "ON EPOCH 241\n",
      "ON EPOCH 242\n",
      "ON EPOCH 243\n",
      "ON EPOCH 244\n",
      "ON EPOCH 245\n",
      "ON EPOCH 246\n",
      "ON EPOCH 247\n",
      "ON EPOCH 248\n",
      "ON EPOCH 249\n",
      "ON EPOCH 250\n",
      "ON EPOCH 251\n",
      "ON EPOCH 252\n",
      "ON EPOCH 253\n",
      "ON EPOCH 254\n",
      "ON EPOCH 255\n",
      "ON EPOCH 256\n",
      "ON EPOCH 257\n",
      "ON EPOCH 258\n",
      "ON EPOCH 259\n",
      "ON EPOCH 260\n",
      "ON EPOCH 261\n",
      "ON EPOCH 262\n",
      "ON EPOCH 263\n",
      "ON EPOCH 264\n",
      "ON EPOCH 265\n",
      "ON EPOCH 266\n",
      "ON EPOCH 267\n",
      "ON EPOCH 268\n",
      "ON EPOCH 269\n",
      "ON EPOCH 270\n",
      "ON EPOCH 271\n",
      "ON EPOCH 272\n",
      "ON EPOCH 273\n",
      "ON EPOCH 274\n",
      "ON EPOCH 275\n",
      "ON EPOCH 276\n",
      "ON EPOCH 277\n",
      "ON EPOCH 278\n",
      "ON EPOCH 279\n",
      "ON EPOCH 280\n",
      "ON EPOCH 281\n",
      "ON EPOCH 282\n",
      "ON EPOCH 283\n",
      "ON EPOCH 284\n",
      "ON EPOCH 285\n",
      "ON EPOCH 286\n",
      "ON EPOCH 287\n",
      "ON EPOCH 288\n",
      "ON EPOCH 289\n",
      "ON EPOCH 290\n",
      "ON EPOCH 291\n",
      "ON EPOCH 292\n",
      "ON EPOCH 293\n",
      "ON EPOCH 294\n",
      "ON EPOCH 295\n",
      "ON EPOCH 296\n",
      "ON EPOCH 297\n",
      "ON EPOCH 298\n",
      "ON EPOCH 299\n",
      "ON EPOCH 300\n",
      "ON EPOCH 301\n",
      "ON EPOCH 302\n",
      "ON EPOCH 303\n",
      "ON EPOCH 304\n",
      "ON EPOCH 305\n",
      "ON EPOCH 306\n",
      "ON EPOCH 307\n",
      "ON EPOCH 308\n",
      "ON EPOCH 309\n",
      "ON EPOCH 310\n",
      "ON EPOCH 311\n",
      "ON EPOCH 312\n",
      "ON EPOCH 313\n",
      "ON EPOCH 314\n",
      "ON EPOCH 315\n",
      "ON EPOCH 316\n",
      "ON EPOCH 317\n",
      "ON EPOCH 318\n",
      "ON EPOCH 319\n",
      "ON EPOCH 320\n",
      "ON EPOCH 321\n",
      "ON EPOCH 322\n",
      "ON EPOCH 323\n",
      "ON EPOCH 324\n",
      "ON EPOCH 325\n",
      "ON EPOCH 326\n",
      "ON EPOCH 327\n",
      "ON EPOCH 328\n",
      "ON EPOCH 329\n",
      "ON EPOCH 330\n",
      "ON EPOCH 331\n",
      "ON EPOCH 332\n",
      "ON EPOCH 333\n",
      "ON EPOCH 334\n",
      "ON EPOCH 335\n",
      "ON EPOCH 336\n",
      "ON EPOCH 337\n",
      "ON EPOCH 338\n",
      "ON EPOCH 339\n",
      "ON EPOCH 340\n",
      "ON EPOCH 341\n",
      "ON EPOCH 342\n",
      "ON EPOCH 343\n",
      "ON EPOCH 344\n",
      "ON EPOCH 345\n",
      "ON EPOCH 346\n",
      "ON EPOCH 347\n",
      "ON EPOCH 348\n",
      "ON EPOCH 349\n",
      "ON EPOCH 350\n",
      "ON EPOCH 351\n",
      "ON EPOCH 352\n",
      "ON EPOCH 353\n",
      "ON EPOCH 354\n",
      "ON EPOCH 355\n",
      "ON EPOCH 356\n",
      "ON EPOCH 357\n",
      "ON EPOCH 358\n",
      "ON EPOCH 359\n",
      "ON EPOCH 360\n",
      "ON EPOCH 361\n",
      "ON EPOCH 362\n",
      "ON EPOCH 363\n",
      "ON EPOCH 364\n",
      "ON EPOCH 365\n",
      "ON EPOCH 366\n",
      "ON EPOCH 367\n",
      "ON EPOCH 368\n",
      "ON EPOCH 369\n",
      "ON EPOCH 370\n",
      "ON EPOCH 371\n",
      "ON EPOCH 372\n",
      "ON EPOCH 373\n",
      "ON EPOCH 374\n",
      "ON EPOCH 375\n",
      "ON EPOCH 376\n",
      "ON EPOCH 377\n",
      "ON EPOCH 378\n",
      "ON EPOCH 379\n",
      "ON EPOCH 380\n",
      "ON EPOCH 381\n",
      "ON EPOCH 382\n",
      "ON EPOCH 383\n",
      "ON EPOCH 384\n",
      "ON EPOCH 385\n",
      "ON EPOCH 386\n",
      "ON EPOCH 387\n",
      "ON EPOCH 388\n",
      "ON EPOCH 389\n",
      "ON EPOCH 390\n",
      "ON EPOCH 391\n",
      "ON EPOCH 392\n",
      "ON EPOCH 393\n",
      "ON EPOCH 394\n",
      "ON EPOCH 395\n",
      "ON EPOCH 396\n",
      "ON EPOCH 397\n",
      "ON EPOCH 398\n",
      "ON EPOCH 399\n",
      "ON EPOCH 400\n",
      "ON EPOCH 401\n",
      "ON EPOCH 402\n",
      "ON EPOCH 403\n",
      "ON EPOCH 404\n",
      "ON EPOCH 405\n",
      "ON EPOCH 406\n",
      "ON EPOCH 407\n",
      "ON EPOCH 408\n",
      "ON EPOCH 409\n",
      "ON EPOCH 410\n",
      "ON EPOCH 411\n",
      "ON EPOCH 412\n",
      "ON EPOCH 413\n",
      "ON EPOCH 414\n",
      "ON EPOCH 415\n",
      "ON EPOCH 416\n",
      "ON EPOCH 417\n",
      "ON EPOCH 418\n",
      "ON EPOCH 419\n",
      "ON EPOCH 420\n",
      "ON EPOCH 421\n",
      "ON EPOCH 422\n",
      "ON EPOCH 423\n",
      "ON EPOCH 424\n",
      "ON EPOCH 425\n",
      "ON EPOCH 426\n",
      "ON EPOCH 427\n",
      "ON EPOCH 428\n",
      "ON EPOCH 429\n",
      "ON EPOCH 430\n",
      "ON EPOCH 431\n",
      "ON EPOCH 432\n",
      "ON EPOCH 433\n",
      "ON EPOCH 434\n",
      "ON EPOCH 435\n",
      "ON EPOCH 436\n",
      "ON EPOCH 437\n",
      "ON EPOCH 438\n",
      "ON EPOCH 439\n",
      "ON EPOCH 440\n",
      "ON EPOCH 441\n",
      "ON EPOCH 442\n",
      "ON EPOCH 443\n",
      "ON EPOCH 444\n",
      "ON EPOCH 445\n",
      "ON EPOCH 446\n",
      "ON EPOCH 447\n",
      "ON EPOCH 448\n",
      "ON EPOCH 449\n",
      "ON EPOCH 450\n",
      "ON EPOCH 451\n",
      "ON EPOCH 452\n",
      "ON EPOCH 453\n",
      "ON EPOCH 454\n",
      "ON EPOCH 455\n",
      "ON EPOCH 456\n",
      "ON EPOCH 457\n",
      "ON EPOCH 458\n",
      "ON EPOCH 459\n",
      "ON EPOCH 460\n",
      "ON EPOCH 461\n",
      "ON EPOCH 462\n",
      "ON EPOCH 463\n",
      "ON EPOCH 464\n",
      "ON EPOCH 465\n",
      "ON EPOCH 466\n",
      "ON EPOCH 467\n",
      "ON EPOCH 468\n",
      "ON EPOCH 469\n",
      "ON EPOCH 470\n",
      "ON EPOCH 471\n",
      "ON EPOCH 472\n",
      "ON EPOCH 473\n",
      "ON EPOCH 474\n",
      "ON EPOCH 475\n",
      "ON EPOCH 476\n",
      "ON EPOCH 477\n",
      "ON EPOCH 478\n",
      "ON EPOCH 479\n",
      "ON EPOCH 480\n",
      "ON EPOCH 481\n",
      "ON EPOCH 482\n",
      "ON EPOCH 483\n",
      "ON EPOCH 484\n",
      "ON EPOCH 485\n",
      "ON EPOCH 486\n",
      "ON EPOCH 487\n",
      "ON EPOCH 488\n",
      "ON EPOCH 489\n",
      "ON EPOCH 490\n",
      "ON EPOCH 491\n",
      "ON EPOCH 492\n",
      "ON EPOCH 493\n",
      "ON EPOCH 494\n",
      "ON EPOCH 495\n",
      "ON EPOCH 496\n",
      "ON EPOCH 497\n",
      "ON EPOCH 498\n",
      "ON EPOCH 499\n"
     ]
    }
   ],
   "source": [
    "with tf.Session() as sess:\n",
    "    sess.run(init)\n",
    "    for epoch in range(epochs):\n",
    "        num_batches = mnist.train.num_examples// batch_size\n",
    "        for i in range(num_batches):\n",
    "            #Creating batch of real images\n",
    "            batch = mnist.train.next_batch(batch_size)\n",
    "            batch_images = batch[0].reshape((batch_size,784))\n",
    "            batch_images = batch_images*2-1 \n",
    "            #Creating noise\n",
    "            batch_z = np.random.uniform(-1,1,size=(batch_size,100)) #For tanh function\n",
    "            #Training the model\n",
    "            _  = sess.run(D_trainer, feed_dict = {real: batch_images,z:batch_z})\n",
    "            _  = sess.run(G_trainer,feed_dict={z:batch_z})\n",
    "            \n",
    "        print(\"ON EPOCH {}\".format(epoch))\n",
    "        #Extracting a sample form the traning epoch\n",
    "        sample_z = np.random.uniform(-1,1,size=(1,100))\n",
    "        gen_sample = sess.run(generator(z,reuse=True),feed_dict={z:sample_z})\n",
    "        samples.append(gen_sample)\n",
    "        #Saving the model\n",
    "        saver.save(sess,save_path=\"./model/gan_model\")"
   ]
  },
  {
   "cell_type": "markdown",
   "metadata": {},
   "source": [
    "# Testing the model"
   ]
  },
  {
   "cell_type": "code",
   "execution_count": 113,
   "metadata": {
    "scrolled": true
   },
   "outputs": [
    {
     "data": {
      "text/plain": [
       "<matplotlib.image.AxesImage at 0x250298d52e8>"
      ]
     },
     "execution_count": 113,
     "metadata": {},
     "output_type": "execute_result"
    },
    {
     "data": {
      "image/png": "[encoded data removed]",
      "text/plain": [
       "<matplotlib.figure.Figure at 0x24ff489b860>"
      ]
     },
     "metadata": {},
     "output_type": "display_data"
    }
   ],
   "source": [
    "#After first 10 epochs\n",
    "plt.imshow(samples[10].reshape(28,28),cmap= 'Greys')"
   ]
  },
  {
   "cell_type": "code",
   "execution_count": 116,
   "metadata": {},
   "outputs": [
    {
     "data": {
      "text/plain": [
       "<matplotlib.image.AxesImage at 0x25020cb77f0>"
      ]
     },
     "execution_count": 116,
     "metadata": {},
     "output_type": "execute_result"
    },
    {
     "data": {
      "image/png": "[encoded data removed]",
      "text/plain": [
       "<matplotlib.figure.Figure at 0x25020c99438>"
      ]
     },
     "metadata": {},
     "output_type": "display_data"
    }
   ],
   "source": [
    "#After 490+ epochs\n",
    "plt.imshow(samples[497].reshape(28,28),cmap= 'Greys')"
   ]
  },
  {
   "cell_type": "code",
   "execution_count": 81,
   "metadata": {},
   "outputs": [
    {
     "name": "stdout",
     "output_type": "stream",
     "text": [
      "INFO:tensorflow:Restoring parameters from ./model/gan_model\n"
     ]
    }
   ],
   "source": [
    "saver = tf.train.Saver(var_list=g_vars)\n",
    "new_samples = []\n",
    "with tf.Session() as sess:\n",
    "    #Restoring the saved model\n",
    "    saver.restore(sess,\"./model/gan_model\")\n",
    "    #Generating 100 random samples\n",
    "    for x in range(100):\n",
    "        sample_z = np.random.uniform(-1,1,size=(1,100))\n",
    "        gen_sample = sess.run(generator(z,reuse=True),feed_dict={z:sample_z})\n",
    "        new_samples.append(gen_sample)"
   ]
  },
  {
   "cell_type": "code",
   "execution_count": 111,
   "metadata": {},
   "outputs": [
    {
     "data": {
      "image/png": "[encoded data removed]",
      "text/plain": [
       "<matplotlib.figure.Figure at 0x25027e325f8>"
      ]
     },
     "metadata": {},
     "output_type": "display_data"
    }
   ],
   "source": [
    "#Creating graph\n",
    "fig=plt.figure(figsize=(8, 8))\n",
    "columns = 4\n",
    "rows = 5\n",
    "for l in range(1, columns*rows +1):\n",
    "    #Selecting a random index\n",
    "    ind = int(np.random.randint(low= 0,high =100))\n",
    "    fig.add_subplot(rows, columns, l)\n",
    "    #Adding the figure to graph\n",
    "    plt.imshow(new_samples[ind].reshape(28,28),cmap= 'Greys')\n",
    "#Showing the graph\n",
    "plt.show()"
   ]
  },
  {
   "cell_type": "code",
   "execution_count": null,
   "metadata": {
    "collapsed": true
   },
   "outputs": [],
   "source": []
  },
  {
   "cell_type": "code",
   "execution_count": null,
   "metadata": {
    "collapsed": true
   },
   "outputs": [],
   "source": []
  }
 ],
 "metadata": {
  "kernelspec": {
   "display_name": "Python 3",
   "language": "python",
   "name": "python3"
  },
  "language_info": {
   "codemirror_mode": {
    "name": "ipython",
    "version": 3
   },
   "file_extension": ".py",
   "mimetype": "text/x-python",
   "name": "python",
   "nbconvert_exporter": "python",
   "pygments_lexer": "ipython3",
   "version": "3.6.3"
  }
 },
 "nbformat": 4,
 "nbformat_minor": 2
}
